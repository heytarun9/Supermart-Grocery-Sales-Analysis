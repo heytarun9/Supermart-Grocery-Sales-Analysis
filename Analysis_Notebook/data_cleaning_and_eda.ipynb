{
 "cells": [
  {
   "cell_type": "code",
   "execution_count": 11,
   "id": "18454527-294f-4f40-9463-da6380efca3f",
   "metadata": {},
   "outputs": [],
   "source": [
    "# Supermart Grocery Sales Dataset Cleaning "
   ]
  },
  {
   "cell_type": "code",
   "execution_count": 12,
   "id": "ec536463-ce93-4087-afc2-da382e84b382",
   "metadata": {},
   "outputs": [],
   "source": [
    "# Step 1: Import Libraries\n",
    "import pandas as pd"
   ]
  },
  {
   "cell_type": "code",
   "execution_count": 13,
   "id": "72cdf076-15cc-4594-bd65-d08b10139054",
   "metadata": {},
   "outputs": [],
   "source": [
    "# Step 2: Load Dataset\n",
    "df = pd.read_csv(\"Supermart Grocery Sales - Retail Analytics Dataset.csv\")"
   ]
  },
  {
   "cell_type": "code",
   "execution_count": 14,
   "id": "aae6d072-6e09-4fba-89d6-298915eb5b75",
   "metadata": {},
   "outputs": [
    {
     "name": "stdout",
     "output_type": "stream",
     "text": [
      "Initial Data Info:\n",
      "<class 'pandas.core.frame.DataFrame'>\n",
      "RangeIndex: 9994 entries, 0 to 9993\n",
      "Data columns (total 11 columns):\n",
      " #   Column         Non-Null Count  Dtype  \n",
      "---  ------         --------------  -----  \n",
      " 0   Order ID       9994 non-null   object \n",
      " 1   Customer Name  9994 non-null   object \n",
      " 2   Category       9994 non-null   object \n",
      " 3   Sub Category   9994 non-null   object \n",
      " 4   City           9994 non-null   object \n",
      " 5   Order Date     9994 non-null   object \n",
      " 6   Region         9994 non-null   object \n",
      " 7   Sales          9994 non-null   int64  \n",
      " 8   Discount       9994 non-null   float64\n",
      " 9   Profit         9994 non-null   float64\n",
      " 10  State          9994 non-null   object \n",
      "dtypes: float64(2), int64(1), object(8)\n",
      "memory usage: 859.0+ KB\n",
      "None\n",
      "\n",
      "First 5 Rows:\n",
      "  Order ID Customer Name          Category      Sub Category         City  \\\n",
      "0      OD1        Harish      Oil & Masala           Masalas      Vellore   \n",
      "1      OD2         Sudha         Beverages     Health Drinks  Krishnagiri   \n",
      "2      OD3       Hussain       Food Grains      Atta & Flour   Perambalur   \n",
      "3      OD4       Jackson  Fruits & Veggies  Fresh Vegetables   Dharmapuri   \n",
      "4      OD5       Ridhesh       Food Grains   Organic Staples         Ooty   \n",
      "\n",
      "   Order Date Region  Sales  Discount  Profit       State  \n",
      "0  11-08-2017  North   1254      0.12  401.28  Tamil Nadu  \n",
      "1  11-08-2017  South    749      0.18  149.80  Tamil Nadu  \n",
      "2  06-12-2017   West   2360      0.21  165.20  Tamil Nadu  \n",
      "3  10-11-2016  South    896      0.25   89.60  Tamil Nadu  \n",
      "4  10-11-2016  South   2355      0.26  918.45  Tamil Nadu  \n"
     ]
    }
   ],
   "source": [
    "# Step 3: Basic Info\n",
    "print(\"Initial Data Info:\")\n",
    "print(df.info())\n",
    "print(\"\\nFirst 5 Rows:\")\n",
    "print(df.head())"
   ]
  },
  {
   "cell_type": "code",
   "execution_count": 15,
   "id": "bbec4a55-24d9-4c05-9855-e6ccad6771d4",
   "metadata": {},
   "outputs": [
    {
     "name": "stdout",
     "output_type": "stream",
     "text": [
      "Duplicate rows: 0\n"
     ]
    }
   ],
   "source": [
    "# Step 4: Check for Duplicates and Drop Them\n",
    "duplicates = df.duplicated().sum()\n",
    "print(f\"Duplicate rows: {duplicates}\")\n",
    "df = df.drop_duplicates()"
   ]
  },
  {
   "cell_type": "code",
   "execution_count": 16,
   "id": "c13947e2-185e-4f67-acdc-bad5c9800da2",
   "metadata": {},
   "outputs": [
    {
     "name": "stdout",
     "output_type": "stream",
     "text": [
      "\n",
      "Missing Values per Column:\n",
      "Order ID         0\n",
      "Customer Name    0\n",
      "Category         0\n",
      "Sub Category     0\n",
      "City             0\n",
      "Order Date       0\n",
      "Region           0\n",
      "Sales            0\n",
      "Discount         0\n",
      "Profit           0\n",
      "State            0\n",
      "dtype: int64\n"
     ]
    }
   ],
   "source": [
    "# Step 5: Check for Missing Values\n",
    "missing = df.isnull().sum()\n",
    "print(\"\\nMissing Values per Column:\")\n",
    "print(missing)"
   ]
  },
  {
   "cell_type": "code",
   "execution_count": 17,
   "id": "24476a80-a9de-44fb-a6a8-51f16f2789fd",
   "metadata": {},
   "outputs": [
    {
     "name": "stdout",
     "output_type": "stream",
     "text": [
      "<class 'pandas.core.frame.DataFrame'>\n",
      "RangeIndex: 9994 entries, 0 to 9993\n",
      "Data columns (total 11 columns):\n",
      " #   Column         Non-Null Count  Dtype  \n",
      "---  ------         --------------  -----  \n",
      " 0   Order ID       9994 non-null   object \n",
      " 1   Customer Name  9994 non-null   object \n",
      " 2   Category       9994 non-null   object \n",
      " 3   Sub Category   9994 non-null   object \n",
      " 4   City           9994 non-null   object \n",
      " 5   Order Date     9994 non-null   object \n",
      " 6   Region         9994 non-null   object \n",
      " 7   Sales          9994 non-null   int64  \n",
      " 8   Discount       9994 non-null   float64\n",
      " 9   Profit         9994 non-null   float64\n",
      " 10  State          9994 non-null   object \n",
      "dtypes: float64(2), int64(1), object(8)\n",
      "memory usage: 859.0+ KB\n"
     ]
    }
   ],
   "source": [
    "df.info()\n"
   ]
  },
  {
   "cell_type": "code",
   "execution_count": 18,
   "id": "6c9b3351-b4c2-47fb-81fb-1e1e892ac729",
   "metadata": {},
   "outputs": [],
   "source": [
    "# Step 7: Standardize Column Names\n",
    "df.columns = df.columns.str.strip().str.replace(\" \", \"_\").str.lower()"
   ]
  },
  {
   "cell_type": "code",
   "execution_count": 19,
   "id": "9f39f316-8ce3-4811-9afa-f423aa1e4b62",
   "metadata": {},
   "outputs": [
    {
     "name": "stdout",
     "output_type": "stream",
     "text": [
      "<class 'pandas.core.frame.DataFrame'>\n",
      "RangeIndex: 9994 entries, 0 to 9993\n",
      "Data columns (total 11 columns):\n",
      " #   Column         Non-Null Count  Dtype  \n",
      "---  ------         --------------  -----  \n",
      " 0   order_id       9994 non-null   object \n",
      " 1   customer_name  9994 non-null   object \n",
      " 2   category       9994 non-null   object \n",
      " 3   sub_category   9994 non-null   object \n",
      " 4   city           9994 non-null   object \n",
      " 5   order_date     9994 non-null   object \n",
      " 6   region         9994 non-null   object \n",
      " 7   sales          9994 non-null   int64  \n",
      " 8   discount       9994 non-null   float64\n",
      " 9   profit         9994 non-null   float64\n",
      " 10  state          9994 non-null   object \n",
      "dtypes: float64(2), int64(1), object(8)\n",
      "memory usage: 859.0+ KB\n"
     ]
    }
   ],
   "source": [
    "df.info()\n"
   ]
  },
  {
   "cell_type": "code",
   "execution_count": 20,
   "id": "49f2fe68-eec9-4c3d-a6e3-cd194fb6cfdc",
   "metadata": {},
   "outputs": [
    {
     "name": "stdout",
     "output_type": "stream",
     "text": [
      "\n",
      "Cleaned Data Preview:\n",
      "  order_id customer_name          category      sub_category         city  \\\n",
      "0      OD1        Harish      Oil & Masala           Masalas      Vellore   \n",
      "1      OD2         Sudha         Beverages     Health Drinks  Krishnagiri   \n",
      "2      OD3       Hussain       Food Grains      Atta & Flour   Perambalur   \n",
      "3      OD4       Jackson  Fruits & Veggies  Fresh Vegetables   Dharmapuri   \n",
      "4      OD5       Ridhesh       Food Grains   Organic Staples         Ooty   \n",
      "\n",
      "   order_date region  sales  discount  profit       state  \n",
      "0  11-08-2017  North   1254      0.12  401.28  Tamil Nadu  \n",
      "1  11-08-2017  South    749      0.18  149.80  Tamil Nadu  \n",
      "2  06-12-2017   West   2360      0.21  165.20  Tamil Nadu  \n",
      "3  10-11-2016  South    896      0.25   89.60  Tamil Nadu  \n",
      "4  10-11-2016  South   2355      0.26  918.45  Tamil Nadu  \n"
     ]
    }
   ],
   "source": [
    "# Step 9: Final Preview\n",
    "print(\"\\nCleaned Data Preview:\")\n",
    "print(df.head())"
   ]
  },
  {
   "cell_type": "code",
   "execution_count": 21,
   "id": "8ee13a42-b561-48fc-8528-6e417daf33db",
   "metadata": {},
   "outputs": [
    {
     "name": "stdout",
     "output_type": "stream",
     "text": [
      "Cleaned dataset saved as 'cleaned_supermart_grocery_sales.csv'\n"
     ]
    }
   ],
   "source": [
    "# Step 10: Export Cleaned Data to CSV\n",
    "df.to_csv(\"cleaned_supermart_grocery_sales.csv\", index=False)\n",
    "print(\"Cleaned dataset saved as 'cleaned_supermart_grocery_sales.csv'\")"
   ]
  },
  {
   "cell_type": "code",
   "execution_count": 26,
   "id": "4c3e19f9-0629-4d6b-a511-628593b9abb5",
   "metadata": {},
   "outputs": [],
   "source": [
    "# Step 2: Load the Existing CSV File\n",
    "file_path = \"cleaned_supermart_grocery_sales.csv\"  # Same file\n",
    "df = pd.read_csv(file_path)"
   ]
  },
  {
   "cell_type": "code",
   "execution_count": 27,
   "id": "3ff380f9-c136-4bee-b0e5-e28efad434ad",
   "metadata": {},
   "outputs": [
    {
     "name": "stdout",
     "output_type": "stream",
     "text": [
      "  order_id customer_name          category      sub_category         city  \\\n",
      "0      OD1        Harish      Oil & Masala           Masalas      Vellore   \n",
      "1      OD2         Sudha         Beverages     Health Drinks  Krishnagiri   \n",
      "2      OD3       Hussain       Food Grains      Atta & Flour   Perambalur   \n",
      "3      OD4       Jackson  Fruits & Veggies  Fresh Vegetables   Dharmapuri   \n",
      "4      OD5       Ridhesh       Food Grains   Organic Staples         Ooty   \n",
      "\n",
      "   order_date region  sales  discount  profit       state  \n",
      "0  11-08-2017  North   1254      0.12  401.28  Tamil Nadu  \n",
      "1  11-08-2017  South    749      0.18  149.80  Tamil Nadu  \n",
      "2  06-12-2017   West   2360      0.21  165.20  Tamil Nadu  \n",
      "3  10-11-2016  South    896      0.25   89.60  Tamil Nadu  \n",
      "4  10-11-2016  South   2355      0.26  918.45  Tamil Nadu  \n"
     ]
    }
   ],
   "source": [
    "print(df.head())"
   ]
  },
  {
   "cell_type": "code",
   "execution_count": 28,
   "id": "a4d2c095-281e-4c06-8688-03f9060d1030",
   "metadata": {},
   "outputs": [],
   "source": [
    "# Step 3: Drop Unnecessary Columns (if they exist)\n",
    "columns_to_drop = [\"Unnamed: 11\", \"Unnamed: 12\", \"Unnamed: 13\"]\n",
    "df.drop(columns=[col for col in columns_to_drop if col in df.columns], inplace=True)"
   ]
  },
  {
   "cell_type": "code",
   "execution_count": 31,
   "id": "64418491-f7ee-4456-85b2-38af20905a0a",
   "metadata": {},
   "outputs": [],
   "source": [
    "# Step 4: Convert 'order_date' to datetime format\n",
    "df['order_date'] = pd.to_datetime(df['order_date'], format='mixed', dayfirst=True)"
   ]
  },
  {
   "cell_type": "code",
   "execution_count": 32,
   "id": "5487892e-e331-43dd-9dda-98506ed6b3d3",
   "metadata": {},
   "outputs": [],
   "source": [
    "# Step 5: Create New Columns\n",
    "\n",
    "# Profit Percentage\n",
    "df['profit_%'] = (df['profit'] / df['sales']) * 100\n"
   ]
  },
  {
   "cell_type": "code",
   "execution_count": 33,
   "id": "4e86adc3-2d06-4064-9645-bb24d3c0ecdc",
   "metadata": {},
   "outputs": [],
   "source": [
    "# Discount Percentage\n",
    "df['discount_%'] = df['discount'] * 100"
   ]
  },
  {
   "cell_type": "code",
   "execution_count": 34,
   "id": "380186ee-1a21-4370-b8e6-916075d7e40e",
   "metadata": {},
   "outputs": [],
   "source": [
    "# Month Name\n",
    "df['month_name'] = df['order_date'].dt.month_name()"
   ]
  },
  {
   "cell_type": "code",
   "execution_count": 35,
   "id": "202e6dbc-15b5-4239-94dc-385e4d8b6356",
   "metadata": {},
   "outputs": [],
   "source": [
    "# Day Name\n",
    "df['day_name'] = df['order_date'].dt.day_name()\n"
   ]
  },
  {
   "cell_type": "code",
   "execution_count": 36,
   "id": "ab84d90f-1d70-412e-875d-5365f9821ba9",
   "metadata": {},
   "outputs": [],
   "source": [
    "# Year\n",
    "df['year'] = df['order_date'].dt.year"
   ]
  },
  {
   "cell_type": "code",
   "execution_count": 37,
   "id": "5d1aab7e-7d03-4fd5-a1d2-ab1eee94ec45",
   "metadata": {},
   "outputs": [],
   "source": [
    "# Weekday or Weekend\n",
    "df['week_type'] = df['order_date'].dt.dayofweek.apply(lambda x: 'Weekend' if x >= 5 else 'Weekday')"
   ]
  },
  {
   "cell_type": "code",
   "execution_count": 38,
   "id": "d81d1323-48a6-47e6-8114-bd0d12df8d81",
   "metadata": {},
   "outputs": [],
   "source": [
    "# Step 6: Save Changes Back to the Same File\n",
    "df.to_csv(file_path, index=False)"
   ]
  },
  {
   "cell_type": "code",
   "execution_count": 39,
   "id": "d230c683-12f4-4f2d-ae1f-53c6029eea6d",
   "metadata": {},
   "outputs": [
    {
     "data": {
      "text/html": [
       "<div>\n",
       "<style scoped>\n",
       "    .dataframe tbody tr th:only-of-type {\n",
       "        vertical-align: middle;\n",
       "    }\n",
       "\n",
       "    .dataframe tbody tr th {\n",
       "        vertical-align: top;\n",
       "    }\n",
       "\n",
       "    .dataframe thead th {\n",
       "        text-align: right;\n",
       "    }\n",
       "</style>\n",
       "<table border=\"1\" class=\"dataframe\">\n",
       "  <thead>\n",
       "    <tr style=\"text-align: right;\">\n",
       "      <th></th>\n",
       "      <th>order_id</th>\n",
       "      <th>customer_name</th>\n",
       "      <th>category</th>\n",
       "      <th>sub_category</th>\n",
       "      <th>city</th>\n",
       "      <th>order_date</th>\n",
       "      <th>region</th>\n",
       "      <th>sales</th>\n",
       "      <th>discount</th>\n",
       "      <th>profit</th>\n",
       "      <th>state</th>\n",
       "      <th>profit_%</th>\n",
       "      <th>discount_%</th>\n",
       "      <th>month_name</th>\n",
       "      <th>day_name</th>\n",
       "      <th>year</th>\n",
       "      <th>week_type</th>\n",
       "    </tr>\n",
       "  </thead>\n",
       "  <tbody>\n",
       "    <tr>\n",
       "      <th>0</th>\n",
       "      <td>OD1</td>\n",
       "      <td>Harish</td>\n",
       "      <td>Oil &amp; Masala</td>\n",
       "      <td>Masalas</td>\n",
       "      <td>Vellore</td>\n",
       "      <td>2017-08-11</td>\n",
       "      <td>North</td>\n",
       "      <td>1254</td>\n",
       "      <td>0.12</td>\n",
       "      <td>401.28</td>\n",
       "      <td>Tamil Nadu</td>\n",
       "      <td>32.0</td>\n",
       "      <td>12.0</td>\n",
       "      <td>August</td>\n",
       "      <td>Friday</td>\n",
       "      <td>2017</td>\n",
       "      <td>Weekday</td>\n",
       "    </tr>\n",
       "    <tr>\n",
       "      <th>1</th>\n",
       "      <td>OD2</td>\n",
       "      <td>Sudha</td>\n",
       "      <td>Beverages</td>\n",
       "      <td>Health Drinks</td>\n",
       "      <td>Krishnagiri</td>\n",
       "      <td>2017-08-11</td>\n",
       "      <td>South</td>\n",
       "      <td>749</td>\n",
       "      <td>0.18</td>\n",
       "      <td>149.80</td>\n",
       "      <td>Tamil Nadu</td>\n",
       "      <td>20.0</td>\n",
       "      <td>18.0</td>\n",
       "      <td>August</td>\n",
       "      <td>Friday</td>\n",
       "      <td>2017</td>\n",
       "      <td>Weekday</td>\n",
       "    </tr>\n",
       "    <tr>\n",
       "      <th>2</th>\n",
       "      <td>OD3</td>\n",
       "      <td>Hussain</td>\n",
       "      <td>Food Grains</td>\n",
       "      <td>Atta &amp; Flour</td>\n",
       "      <td>Perambalur</td>\n",
       "      <td>2017-12-06</td>\n",
       "      <td>West</td>\n",
       "      <td>2360</td>\n",
       "      <td>0.21</td>\n",
       "      <td>165.20</td>\n",
       "      <td>Tamil Nadu</td>\n",
       "      <td>7.0</td>\n",
       "      <td>21.0</td>\n",
       "      <td>December</td>\n",
       "      <td>Wednesday</td>\n",
       "      <td>2017</td>\n",
       "      <td>Weekday</td>\n",
       "    </tr>\n",
       "    <tr>\n",
       "      <th>3</th>\n",
       "      <td>OD4</td>\n",
       "      <td>Jackson</td>\n",
       "      <td>Fruits &amp; Veggies</td>\n",
       "      <td>Fresh Vegetables</td>\n",
       "      <td>Dharmapuri</td>\n",
       "      <td>2016-11-10</td>\n",
       "      <td>South</td>\n",
       "      <td>896</td>\n",
       "      <td>0.25</td>\n",
       "      <td>89.60</td>\n",
       "      <td>Tamil Nadu</td>\n",
       "      <td>10.0</td>\n",
       "      <td>25.0</td>\n",
       "      <td>November</td>\n",
       "      <td>Thursday</td>\n",
       "      <td>2016</td>\n",
       "      <td>Weekday</td>\n",
       "    </tr>\n",
       "    <tr>\n",
       "      <th>4</th>\n",
       "      <td>OD5</td>\n",
       "      <td>Ridhesh</td>\n",
       "      <td>Food Grains</td>\n",
       "      <td>Organic Staples</td>\n",
       "      <td>Ooty</td>\n",
       "      <td>2016-11-10</td>\n",
       "      <td>South</td>\n",
       "      <td>2355</td>\n",
       "      <td>0.26</td>\n",
       "      <td>918.45</td>\n",
       "      <td>Tamil Nadu</td>\n",
       "      <td>39.0</td>\n",
       "      <td>26.0</td>\n",
       "      <td>November</td>\n",
       "      <td>Thursday</td>\n",
       "      <td>2016</td>\n",
       "      <td>Weekday</td>\n",
       "    </tr>\n",
       "  </tbody>\n",
       "</table>\n",
       "</div>"
      ],
      "text/plain": [
       "  order_id customer_name          category      sub_category         city  \\\n",
       "0      OD1        Harish      Oil & Masala           Masalas      Vellore   \n",
       "1      OD2         Sudha         Beverages     Health Drinks  Krishnagiri   \n",
       "2      OD3       Hussain       Food Grains      Atta & Flour   Perambalur   \n",
       "3      OD4       Jackson  Fruits & Veggies  Fresh Vegetables   Dharmapuri   \n",
       "4      OD5       Ridhesh       Food Grains   Organic Staples         Ooty   \n",
       "\n",
       "  order_date region  sales  discount  profit       state  profit_%  \\\n",
       "0 2017-08-11  North   1254      0.12  401.28  Tamil Nadu      32.0   \n",
       "1 2017-08-11  South    749      0.18  149.80  Tamil Nadu      20.0   \n",
       "2 2017-12-06   West   2360      0.21  165.20  Tamil Nadu       7.0   \n",
       "3 2016-11-10  South    896      0.25   89.60  Tamil Nadu      10.0   \n",
       "4 2016-11-10  South   2355      0.26  918.45  Tamil Nadu      39.0   \n",
       "\n",
       "   discount_% month_name   day_name  year week_type  \n",
       "0        12.0     August     Friday  2017   Weekday  \n",
       "1        18.0     August     Friday  2017   Weekday  \n",
       "2        21.0   December  Wednesday  2017   Weekday  \n",
       "3        25.0   November   Thursday  2016   Weekday  \n",
       "4        26.0   November   Thursday  2016   Weekday  "
      ]
     },
     "execution_count": 39,
     "metadata": {},
     "output_type": "execute_result"
    }
   ],
   "source": [
    "df.head()"
   ]
  }
 ],
 "metadata": {
  "kernelspec": {
   "display_name": "Python 3 (ipykernel)",
   "language": "python",
   "name": "python3"
  },
  "language_info": {
   "codemirror_mode": {
    "name": "ipython",
    "version": 3
   },
   "file_extension": ".py",
   "mimetype": "text/x-python",
   "name": "python",
   "nbconvert_exporter": "python",
   "pygments_lexer": "ipython3",
   "version": "3.11.4"
  }
 },
 "nbformat": 4,
 "nbformat_minor": 5
}
